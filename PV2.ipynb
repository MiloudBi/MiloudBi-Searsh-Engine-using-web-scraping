{
 "cells": [
  {
   "cell_type": "code",
   "execution_count": 1,
   "metadata": {},
   "outputs": [],
   "source": [
    "#imports\n",
    "from selenium import webdriver\n",
    "from selenium.webdriver.common.keys import Keys\n",
    "import os, random, sys, time\n",
    "from bs4 import BeautifulSoup"
   ]
  },
  {
   "cell_type": "code",
   "execution_count": 2,
   "metadata": {},
   "outputs": [],
   "source": [
    "# defining new variable passing two parameters\n",
    "file = open('D:/Etudes/Ensias/MBI/2A/stage/2A_scraping web/config.txt')\n",
    "lines = file.readlines()\n",
    "username = lines[0]\n",
    "password = lines[1]\n",
    "\n",
    "# specifies the path to the chromedriver.exe\n",
    "driver = webdriver.Chrome('D:/Etudes/Ensias/MBI/2A/stage/2A_scraping web/chromedriver.exe')"
   ]
  },
  {
   "cell_type": "code",
   "execution_count": 45,
   "metadata": {},
   "outputs": [],
   "source": [
    "fullLink = 'https://www.google.com/'\n",
    "driver.get(fullLink)\n",
    "# locate search form by_name\n",
    "search_query = driver.find_element_by_name('q')\n",
    "\n",
    "# send_keys() to simulate the search text key strokes\n",
    "search_query.send_keys('site:linkedin.com/in/ AND \"Business Intelligence\" AND \"Maroc\" AND \"open to work\"')\n",
    "\n",
    "# .send_keys() to simulate the return key \n",
    "search_query.send_keys(Keys.RETURN)"
   ]
  },
  {
   "cell_type": "code",
   "execution_count": 46,
   "metadata": {},
   "outputs": [
    {
     "name": "stdout",
     "output_type": "stream",
     "text": [
      "https://ma.linkedin.com/in/kaoutar-abgar-b42143125\n",
      "https://ma.linkedin.com/in/ismailakrim\n",
      "https://ma.linkedin.com/in/abderahmane-outaleb-10568019b\n",
      "https://ma.linkedin.com/in/imane-sami-36783815b\n",
      "https://ma.linkedin.com/in/loubna-outaleb-930082171\n",
      "https://ma.linkedin.com/in/aya-moutaouakil-59bb18138\n",
      "https://ma.linkedin.com/in/lamiae-benyahya-ba8a03128\n",
      "https://ma.linkedin.com/in/mourad-hajoui-b3a1965a\n",
      "https://ma.linkedin.com/in/imane-bourhim-4b2013144\n",
      "https://ma.linkedin.com/in/hicham-talaini-93806929\n",
      "['https://ma.linkedin.com/in/kaoutar-abgar-b42143125', 'https://ma.linkedin.com/in/ismailakrim', 'https://ma.linkedin.com/in/abderahmane-outaleb-10568019b', 'https://ma.linkedin.com/in/imane-sami-36783815b', 'https://ma.linkedin.com/in/loubna-outaleb-930082171', 'https://ma.linkedin.com/in/aya-moutaouakil-59bb18138', 'https://ma.linkedin.com/in/lamiae-benyahya-ba8a03128', 'https://ma.linkedin.com/in/mourad-hajoui-b3a1965a', 'https://ma.linkedin.com/in/imane-bourhim-4b2013144', 'https://ma.linkedin.com/in/hicham-talaini-93806929']\n"
     ]
    }
   ],
   "source": [
    "import re\n",
    "source=driver.page_source\n",
    "soup = BeautifulSoup(source,'lxml')\n",
    "elems = driver.find_elements_by_xpath('//*[@id=\"search\"]//a[starts-with(@href, \"https://ma.linkedin.com/\")]') \n",
    "links=[]\n",
    "for elem in elems:\n",
    "    links.append(elem.get_attribute(\"href\"))\n",
    "    print(elem.get_attribute(\"href\"))\n",
    "print(links)"
   ]
  },
  {
   "cell_type": "code",
   "execution_count": 47,
   "metadata": {},
   "outputs": [],
   "source": [
    "for link in links:\n",
    "    driver.get(link)"
   ]
  },
  {
   "cell_type": "code",
   "execution_count": 51,
   "metadata": {},
   "outputs": [],
   "source": [
    "#driver.find_elements_by_xpath('//*[@id=\"pnnext\"]/span[1]').click()\n",
    "#page2=driver.find_element_by_xpath(\"//*[@id='xjs']/div/table/tbody/tr/td[3]/a\")\n",
    "#page2.click()\n",
    "\n"
   ]
  },
  {
   "cell_type": "markdown",
   "metadata": {},
   "source": [
    "Extract data from resume using pdfminer "
   ]
  },
  {
   "cell_type": "code",
   "execution_count": 1,
   "metadata": {},
   "outputs": [
    {
     "name": "stdout",
     "output_type": "stream",
     "text": [
      "MARS AU MAI 2020SYSTÈME DE RECOMMANDATION BASÉ SUR GRAPH NEURALNETWORK (GNN )OUTILS : PYTHONAVRIL AU MAI 2020PRÉDICTION DES NOUVELLES VENTES PAR L'ANALYSE DESPAQUETS DE MARCHE À LA BASE DU DATAMININGOUTILS: IBM SPSS MODELERAVRIL AU MAI 2020CONCEPTIONET MISE EN ŒUVRE D’UNE DATAMARTFINANCEOUTILS :SSIS, SSAS, SQL SERVERJANVIER AU FÉVRIER 2020DÉVELOPPEMENT D'UNE APPLICATION POUR LACLASSIFICATION DE MUSIQUE À BASE DE MACHINE LEARNINGOUTILS : PYTHONJUIN AU AOÛT 2019 : SMMRGV À TANGER1ER MOIS CONCEPTION ET RÉALISATION D’UNEAPPLICATION POUR LA GESTION D’ELECTRONIQUE DESDOCUMENTS GED : JAVA, MYSQL2ÈME MOIS SIMULATION D’UN DRONE AUTONOMEMARS AU MAI 2018 : UNIVERSITÉ ABDELMALEK ESSAADI,TÉTOUANAPPLICATION DE GESTION DES SALARIES SOUSPLATEFORME ODOO2ÈME ANNÉE DU CYCLE INGÉNIEUR, E-MANAGEMENT ETBUSINESS INTELLIGENCE (EMBI)ECOLE NATIONALE SUPÉRIEURE D’INFORMATIQUE ETD’ANALYSE DES SYSTÈMES (ENSIAS), RABAT [ 2018-2021LICENCE FONDAMENTALE EN SCIENCESMATHÉMATIQUES ET INFORMATIQUEUNIVERSITÉ ABDELMALEK ESSAADI FACULTÉ DESSCIENCES, TÉTOUAN | 2015-2018BACCALAURÉAT SCIENCE MATHÉMATIQUES- ALYCÉE EL MEHDI BENNOUNA,TÉTOUAN | 2014-2015CENTRES D'INTÉRÊTLangages de programmation :Python, Java, PHP,C, R, JavaEE,PL/SQL.Outils:IBM SPSS Modeler,Microsoft Power BI,SSISAnalytics:Data warehouse, Data miningData Science:IA, Machine Learning, Deep LearningTechnologies web:HTML, CSS, Bootstrap, JavaScriptElève Ingénieur d'Etat en 2ème année Filière e-Management & Business Intelligence de l’ENSIASCOMPÉTENCESSEFIANI MiloudAdresse : Mohamed Douad, TétouanTél: (+212)612457989E-Mail: sefiani.miloud96@gmail.comLinkedin:www.linkedin.com/in/miloudsefiani-embi/INFOS CONTACTARABE       :lu, écrit et parléFRANÇAIS : lu, écrit et parléANGLAIS   : lu, écrit et parléLANGUESFORMATIONEXPÉRIENCES PROFESSIONNELLES- Membre au Club d’InitiativeNationale du Développementhumain (CINDH)- Membre au club OLYMPIADEENSIASACTIVITÉS PARASCOLAIRESFootballLectureVoyagePROJETS RÉALISÉSA la recherche d’un stage de 1 à 2 mois\f",
      "\n"
     ]
    }
   ],
   "source": [
    "import io\n",
    "from pdfminer.converter import TextConverter\n",
    "from pdfminer.pdfinterp import PDFPageInterpreter\n",
    "from pdfminer.pdfinterp import PDFResourceManager\n",
    "from pdfminer.pdfpage import PDFPage\n",
    "def extract_text_from_pdf(pdf_path):\n",
    "    resource_manager = PDFResourceManager()\n",
    "    fake_file_handle = io.StringIO()\n",
    "    converter = TextConverter(resource_manager, fake_file_handle)\n",
    "    page_interpreter = PDFPageInterpreter(resource_manager, converter)\n",
    "    with open(pdf_path, 'rb') as fh:\n",
    "        for page in PDFPage.get_pages(fh, \n",
    "                                      caching=True,\n",
    "                                      check_extractable=True):\n",
    "            page_interpreter.process_page(page)\n",
    "        text = fake_file_handle.getvalue()\n",
    "    # close open handles\n",
    "    converter.close()\n",
    "    fake_file_handle.close()\n",
    "    if text:\n",
    "        return text\n",
    "if __name__ == '__main__':\n",
    "    print(extract_text_from_pdf('C:/Users/SefianiMiloud/Desktop/CV_SEFIANI_Miloud.pdf'))"
   ]
  },
  {
   "cell_type": "code",
   "execution_count": null,
   "metadata": {},
   "outputs": [],
   "source": []
  }
 ],
 "metadata": {
  "kernelspec": {
   "display_name": "Python 3",
   "language": "python",
   "name": "python3"
  },
  "language_info": {
   "codemirror_mode": {
    "name": "ipython",
    "version": 3
   },
   "file_extension": ".py",
   "mimetype": "text/x-python",
   "name": "python",
   "nbconvert_exporter": "python",
   "pygments_lexer": "ipython3",
   "version": "3.7.3"
  }
 },
 "nbformat": 4,
 "nbformat_minor": 2
}
